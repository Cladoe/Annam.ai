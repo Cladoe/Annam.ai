{
 "cells": [
  {
   "cell_type": "code",
   "execution_count": 1,
   "id": "2acdcace",
   "metadata": {
    "execution": {
     "iopub.execute_input": "2025-05-23T11:57:50.120195Z",
     "iopub.status.busy": "2025-05-23T11:57:50.119780Z",
     "iopub.status.idle": "2025-05-23T11:57:50.125078Z",
     "shell.execute_reply": "2025-05-23T11:57:50.124012Z"
    },
    "papermill": {
     "duration": 0.011128,
     "end_time": "2025-05-23T11:57:50.126862",
     "exception": false,
     "start_time": "2025-05-23T11:57:50.115734",
     "status": "completed"
    },
    "tags": []
   },
   "outputs": [],
   "source": [
    "#Team: Aditi Goel\n",
    "#Team Members: \n",
    "#1. Aditi Goel (Team Leader)\n",
    "#2. Dr. Anil Kumar\n",
    "#3. Sonakshi Mehrotra\n",
    "#4. Jaya Kamboj"
   ]
  },
  {
   "cell_type": "code",
   "execution_count": 2,
   "id": "69459398",
   "metadata": {
    "execution": {
     "iopub.execute_input": "2025-05-23T11:57:50.132849Z",
     "iopub.status.busy": "2025-05-23T11:57:50.132582Z",
     "iopub.status.idle": "2025-05-23T11:57:54.498053Z",
     "shell.execute_reply": "2025-05-23T11:57:54.496842Z"
    },
    "papermill": {
     "duration": 4.370275,
     "end_time": "2025-05-23T11:57:54.499831",
     "exception": false,
     "start_time": "2025-05-23T11:57:50.129556",
     "status": "completed"
    },
    "tags": []
   },
   "outputs": [],
   "source": [
    "# Import necessary libraries\n",
    "from PIL import Image\n",
    "import os\n",
    "import pandas as pd\n",
    "import numpy as np\n",
    "from sklearn.preprocessing import LabelEncoder\n",
    "from sklearn.model_selection import train_test_split\n",
    "from sklearn.ensemble import RandomForestClassifier\n",
    "from sklearn.metrics import classification_report, confusion_matrix, accuracy_score"
   ]
  },
  {
   "cell_type": "code",
   "execution_count": 3,
   "id": "8dde4854",
   "metadata": {
    "execution": {
     "iopub.execute_input": "2025-05-23T11:57:54.506471Z",
     "iopub.status.busy": "2025-05-23T11:57:54.505841Z",
     "iopub.status.idle": "2025-05-23T11:58:19.947392Z",
     "shell.execute_reply": "2025-05-23T11:58:19.946165Z"
    },
    "id": "AvKXu98ghC1o",
    "outputId": "38d934d1-5d64-49a3-e048-396fd6abb1ce",
    "papermill": {
     "duration": 25.446538,
     "end_time": "2025-05-23T11:58:19.949031",
     "exception": false,
     "start_time": "2025-05-23T11:57:54.502493",
     "status": "completed"
    },
    "tags": []
   },
   "outputs": [
    {
     "name": "stdout",
     "output_type": "stream",
     "text": [
      "Loaded 1222 training images and 341 test images (resized to 256x256).\n"
     ]
    }
   ],
   "source": [
    "# Data Reading and Initial Pre-processing\n",
    "# Images resized for easier handling\n",
    "IMAGE_SIZE = (256, 256)\n",
    "\n",
    "# Paths\n",
    "base_dir = \"/kaggle/input/soil-classification/soil_classification-2025\"\n",
    "train_img_dir = os.path.join(base_dir, \"train\")\n",
    "test_img_dir = os.path.join(base_dir, \"test\")\n",
    "\n",
    "# Load CSVs\n",
    "train_labels_df = pd.read_csv(os.path.join(base_dir, \"train_labels.csv\"))\n",
    "test_ids_df = pd.read_csv(os.path.join(base_dir, \"test_ids.csv\"))\n",
    "\n",
    "# Fetch training data with resizing\n",
    "train_images = []\n",
    "train_labels = []\n",
    "\n",
    "for idx, row in train_labels_df.iterrows():\n",
    "    image_filename = row[\"image_id\"]\n",
    "    label = row[\"soil_type\"]\n",
    "    img_path = os.path.join(train_img_dir, image_filename)\n",
    "\n",
    "    if os.path.exists(img_path):\n",
    "        image = Image.open(img_path).convert(\"RGB\")\n",
    "        image = image.resize(IMAGE_SIZE)  # Resize to 256x256\n",
    "        train_images.append(np.array(image))\n",
    "        train_labels.append(label)\n",
    "    else:\n",
    "        print(f\"Missing training image: {img_path}\")\n",
    "\n",
    "# Fetch test data with resizing\n",
    "test_images = []\n",
    "test_image_ids = []\n",
    "\n",
    "for idx, row in test_ids_df.iterrows():\n",
    "    image_filename = row[\"image_id\"]\n",
    "    img_path = os.path.join(test_img_dir, image_filename)\n",
    "\n",
    "    if os.path.exists(img_path):\n",
    "        image = Image.open(img_path).convert(\"RGB\")\n",
    "        image = image.resize(IMAGE_SIZE)\n",
    "        test_images.append(np.array(image))\n",
    "        test_image_ids.append(image_filename)\n",
    "    else:\n",
    "        print(f\"Missing test image: {img_path}\")\n",
    "\n",
    "print(f\"Loaded {len(train_images)} training images and {len(test_images)} test images (resized to 256x256).\")\n"
   ]
  },
  {
   "cell_type": "code",
   "execution_count": 4,
   "id": "0ffc1df8",
   "metadata": {
    "execution": {
     "iopub.execute_input": "2025-05-23T11:58:19.955538Z",
     "iopub.status.busy": "2025-05-23T11:58:19.955126Z",
     "iopub.status.idle": "2025-05-23T11:58:20.097343Z",
     "shell.execute_reply": "2025-05-23T11:58:20.096391Z"
    },
    "id": "ij3BZ-ShhC4X",
    "papermill": {
     "duration": 0.147803,
     "end_time": "2025-05-23T11:58:20.099397",
     "exception": false,
     "start_time": "2025-05-23T11:58:19.951594",
     "status": "completed"
    },
    "tags": []
   },
   "outputs": [],
   "source": [
    "# Pre-processing steps followed\n",
    "# Step 1: Convert image lists to numpy arrays\n",
    "X_train = np.array(train_images)\n",
    "X_test = np.array(test_images)\n",
    "\n",
    "# Step 2: Flatten images (256x256x3 -> 196608) to 1-D arrays\n",
    "X_train_flat = X_train.reshape(X_train.shape[0], -1)\n",
    "X_test_flat = X_test.reshape(X_test.shape[0], -1)\n",
    "\n",
    "# Step 3: Encode labels from string to numeric\n",
    "label_encoder = LabelEncoder()\n",
    "y_train_encoded = label_encoder.fit_transform(train_labels)"
   ]
  },
  {
   "cell_type": "code",
   "execution_count": 5,
   "id": "3a501012",
   "metadata": {
    "execution": {
     "iopub.execute_input": "2025-05-23T11:58:20.108101Z",
     "iopub.status.busy": "2025-05-23T11:58:20.107756Z",
     "iopub.status.idle": "2025-05-23T11:58:20.221936Z",
     "shell.execute_reply": "2025-05-23T11:58:20.220750Z"
    },
    "id": "7aY-lyaJry32",
    "outputId": "d69b7174-6ac0-4be0-9a25-141f3f29b76e",
    "papermill": {
     "duration": 0.120615,
     "end_time": "2025-05-23T11:58:20.223850",
     "exception": false,
     "start_time": "2025-05-23T11:58:20.103235",
     "status": "completed"
    },
    "tags": []
   },
   "outputs": [
    {
     "name": "stdout",
     "output_type": "stream",
     "text": [
      "Train size: 1099\n",
      "Validation size: 123\n"
     ]
    }
   ],
   "source": [
    "# Train-Validation Split\n",
    "X_train_split, X_val_split, y_train_split, y_val_split = train_test_split(\n",
    "    X_train_flat,\n",
    "    y_train_encoded,\n",
    "    test_size=0.1,   #90% train - 10% validation split\n",
    "    random_state=42,\n",
    "    stratify=y_train_encoded  #stratifying for uniform data division in train & validation datasets\n",
    ")\n",
    "\n",
    "print(f\"Train size: {X_train_split.shape[0]}\")\n",
    "print(f\"Validation size: {X_val_split.shape[0]}\")"
   ]
  },
  {
   "cell_type": "code",
   "execution_count": 6,
   "id": "added9d9",
   "metadata": {
    "execution": {
     "iopub.execute_input": "2025-05-23T11:58:20.229610Z",
     "iopub.status.busy": "2025-05-23T11:58:20.229310Z",
     "iopub.status.idle": "2025-05-23T11:58:25.052211Z",
     "shell.execute_reply": "2025-05-23T11:58:25.051047Z"
    },
    "id": "hoL3uG6XvGMN",
    "outputId": "1c277bbb-cdfb-47a8-e56f-1945c23ddbe0",
    "papermill": {
     "duration": 4.827893,
     "end_time": "2025-05-23T11:58:25.054096",
     "exception": false,
     "start_time": "2025-05-23T11:58:20.226203",
     "status": "completed"
    },
    "tags": []
   },
   "outputs": [
    {
     "name": "stdout",
     "output_type": "stream",
     "text": [
      "Random Forest Classification Report:\n",
      "               precision    recall  f1-score   support\n",
      "\n",
      "           0       0.96      1.00      0.98        53\n",
      "           1       1.00      0.96      0.98        23\n",
      "           2       1.00      1.00      1.00        20\n",
      "           3       1.00      0.96      0.98        27\n",
      "\n",
      "    accuracy                           0.98       123\n",
      "   macro avg       0.99      0.98      0.99       123\n",
      "weighted avg       0.98      0.98      0.98       123\n",
      "\n",
      "Confusion Matrix:\n",
      " [[53  0  0  0]\n",
      " [ 1 22  0  0]\n",
      " [ 0  0 20  0]\n",
      " [ 1  0  0 26]]\n",
      "Accuracy Score: 0.983739837398374\n"
     ]
    }
   ],
   "source": [
    "# CLASSIFICATION USING RANDOM FOREST MODEL\n",
    "\n",
    "# Initialize the Random Forest model\n",
    "rf_model = RandomForestClassifier(n_estimators=25, random_state=42)\n",
    "\n",
    "# Train the model\n",
    "rf_model.fit(X_train_split, y_train_split)\n",
    "\n",
    "# Predict on the test set\n",
    "y_pred_rf = rf_model.predict(X_val_split)\n",
    "\n",
    "# Evaluate the model\n",
    "print(\"Random Forest Classification Report:\\n\", classification_report(y_val_split, y_pred_rf))\n",
    "print(\"Confusion Matrix:\\n\", confusion_matrix(y_val_split, y_pred_rf))\n",
    "print(\"Accuracy Score:\", accuracy_score(y_val_split, y_pred_rf))\n"
   ]
  },
  {
   "cell_type": "code",
   "execution_count": 7,
   "id": "bbb14ec9",
   "metadata": {
    "execution": {
     "iopub.execute_input": "2025-05-23T11:58:25.061229Z",
     "iopub.status.busy": "2025-05-23T11:58:25.060822Z",
     "iopub.status.idle": "2025-05-23T11:58:25.193112Z",
     "shell.execute_reply": "2025-05-23T11:58:25.192001Z"
    },
    "id": "fQ_Ezljqry6f",
    "outputId": "8b2c1ca2-41a3-476a-fab5-52eef24dff5f",
    "papermill": {
     "duration": 0.137664,
     "end_time": "2025-05-23T11:58:25.194821",
     "exception": false,
     "start_time": "2025-05-23T11:58:25.057157",
     "status": "completed"
    },
    "tags": []
   },
   "outputs": [
    {
     "name": "stdout",
     "output_type": "stream",
     "text": [
      "\n",
      "Submission DataFrame (first 5 rows):\n",
      "            image_id      soil_type\n",
      "0  img_cdf80d6f.jpeg  Alluvial soil\n",
      "1   img_c0142a80.jpg  Alluvial soil\n",
      "2   img_91168fb0.jpg  Alluvial soil\n",
      "3   img_9822190f.jpg  Alluvial soil\n",
      "4  img_e5fc436c.jpeg  Alluvial soil\n",
      "\n",
      "Submission file created: submission.csv\n"
     ]
    }
   ],
   "source": [
    "# PREDICTION ON NEW DATA (TEST DATA)\n",
    "# Step 1: Predict on the flattened test data\n",
    "test_predictions_encoded = rf_model.predict(X_test_flat)\n",
    "\n",
    "# Step 2: Decode the predictions\n",
    "test_predictions_labels = label_encoder.inverse_transform(test_predictions_encoded)\n",
    "\n",
    "# Step 3: Create a submission DataFrame\n",
    "submission_df = pd.DataFrame({\n",
    "    \"image_id\": test_image_ids,\n",
    "    \"soil_type\": test_predictions_labels\n",
    "})\n",
    "\n",
    "# Display the first few rows of the submission DataFrame\n",
    "print(\"\\nSubmission DataFrame (first 5 rows):\")\n",
    "print(submission_df.head())\n",
    "\n",
    "# Save the submission DataFrame to a CSV file\n",
    "submission_df.to_csv(\"submission.csv\", index=False)\n",
    "print(\"\\nSubmission file created: submission.csv\")"
   ]
  }
 ],
 "metadata": {
  "colab": {
   "provenance": []
  },
  "kaggle": {
   "accelerator": "none",
   "dataSources": [
    {
     "databundleVersionId": 12375409,
     "sourceId": 102672,
     "sourceType": "competition"
    }
   ],
   "dockerImageVersionId": 31040,
   "isGpuEnabled": false,
   "isInternetEnabled": false,
   "language": "python",
   "sourceType": "notebook"
  },
  "kernelspec": {
   "display_name": "Python 3",
   "name": "python3"
  },
  "language_info": {
   "codemirror_mode": {
    "name": "ipython",
    "version": 3
   },
   "file_extension": ".py",
   "mimetype": "text/x-python",
   "name": "python",
   "nbconvert_exporter": "python",
   "pygments_lexer": "ipython3",
   "version": "3.11.11"
  },
  "papermill": {
   "default_parameters": {},
   "duration": 41.14624,
   "end_time": "2025-05-23T11:58:25.918556",
   "environment_variables": {},
   "exception": null,
   "input_path": "__notebook__.ipynb",
   "output_path": "__notebook__.ipynb",
   "parameters": {},
   "start_time": "2025-05-23T11:57:44.772316",
   "version": "2.6.0"
  }
 },
 "nbformat": 4,
 "nbformat_minor": 5
}
